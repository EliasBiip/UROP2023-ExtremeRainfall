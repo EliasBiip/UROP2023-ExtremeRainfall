{
 "cells": [
  {
   "cell_type": "code",
   "execution_count": null,
   "id": "f2429cee",
   "metadata": {},
   "outputs": [],
   "source": [
    "'''\n",
    "Calculate the GCD between each two nodes.\n",
    "'''"
   ]
  },
  {
   "cell_type": "code",
   "execution_count": 31,
   "id": "77eb9491",
   "metadata": {},
   "outputs": [],
   "source": [
    "from math import radians, sin, cos, asin, sqrt, pi\n",
    "import numpy as np\n",
    "import pickle"
   ]
  },
  {
   "cell_type": "code",
   "execution_count": 2,
   "id": "44dfc03b",
   "metadata": {},
   "outputs": [],
   "source": [
    "def Hav_distance(lat1, lon1, lat2, lon2):\n",
    "    dlat = lat2 - lat1\n",
    "    dlon = lon2 - lon1\n",
    "    a = sin(dlat/2) ** 2 + cos(lat1) * cos(lat2)* (sin(dlon/2) ** 2)\n",
    "    return 2*6371*asin(sqrt(a))"
   ]
  },
  {
   "cell_type": "code",
   "execution_count": 29,
   "id": "2c81b062",
   "metadata": {},
   "outputs": [],
   "source": [
    "distance_list = []\n",
    "for i in range(400):  # first loop over latitude\n",
    "    for j in range(i, 400):\n",
    "        lati = (50 - 0.25*i)* pi /180  # in radians\n",
    "        latj = (50 - 0.25*j)* pi /180 \n",
    "        dlat = lati - latj\n",
    "        part_a = sin(dlat/2) ** 2\n",
    "        part_b = cos(lati) * cos(latj)\n",
    "        # we note that dlon changes from 0 to 180, step is 0.25\n",
    "        for k in np.arange(0,180,0.25):\n",
    "            k_rad = k * pi / 180\n",
    "            a = part_a + part_b * (sin(k_rad/2) **2)\n",
    "            distance = 2*6371*asin(sqrt(a))\n",
    "            distance_list.append(int(distance))\n"
   ]
  },
  {
   "cell_type": "code",
   "execution_count": 30,
   "id": "7c422971",
   "metadata": {},
   "outputs": [
    {
     "name": "stdout",
     "output_type": "stream",
     "text": [
      "57744000\n"
     ]
    }
   ],
   "source": [
    "print(len(distance_list))"
   ]
  },
  {
   "cell_type": "code",
   "execution_count": 32,
   "id": "44d6ecea",
   "metadata": {},
   "outputs": [],
   "source": [
    "with open(\"distance_list\", \"wb\") as fp:   #Pickling\n",
    "    pickle.dump(distance_list, fp) "
   ]
  }
 ],
 "metadata": {
  "kernelspec": {
   "display_name": "Python 3",
   "language": "python",
   "name": "python3"
  },
  "language_info": {
   "codemirror_mode": {
    "name": "ipython",
    "version": 3
   },
   "file_extension": ".py",
   "mimetype": "text/x-python",
   "name": "python",
   "nbconvert_exporter": "python",
   "pygments_lexer": "ipython3",
   "version": "3.11.1"
  }
 },
 "nbformat": 4,
 "nbformat_minor": 5
}
