{
 "cells": [
  {
   "cell_type": "code",
   "execution_count": 1,
   "id": "f0970e97",
   "metadata": {},
   "outputs": [],
   "source": [
    "import pickle\n",
    "import numpy as np\n",
    "import netCDF4 as nc"
   ]
  },
  {
   "cell_type": "code",
   "execution_count": 2,
   "id": "ac596c81",
   "metadata": {},
   "outputs": [],
   "source": [
    "data = np.array(nc.Dataset(\"file_path to the concatenated nc4file\")[\"precipitation\"][:])\n",
    "#data.shape should be 6940*1440*400"
   ]
  },
  {
   "cell_type": "code",
   "execution_count": null,
   "id": "56625af4",
   "metadata": {},
   "outputs": [],
   "source": [
    "days_ERE = [[]]*1440\n",
    "for k in range(1440):\n",
    "    days_ERE[k] = [None] *400\n",
    "# at each location, choose 95 percentile of all values that are greater than 1\n",
    "for i in range(1440):\n",
    "    for j in range(400):\n",
    "        data_grid = data[:, i, j]  \n",
    "        filtered_data_grid = data_grid[data_grid>1]\n",
    "        if len(filtered_data_grid) > 0:\n",
    "            percentile_of_grid = np.percentile(filtered_data_grid, 95)\n",
    "            days = np.where(data_grid >= percentile_of_grid)[0]\n",
    "            if type(days)==int:\n",
    "                days_ERE[i][j] = [days]\n",
    "            else:\n",
    "                days_ERE[i][j] = days\n",
    "        else:\n",
    "            days_ERE[i][j] = 0"
   ]
  },
  {
   "cell_type": "code",
   "execution_count": null,
   "id": "80dbf6b5",
   "metadata": {},
   "outputs": [],
   "source": [
    "start_all_days_ERE = [[]]*1440\n",
    "for k in range(1440):\n",
    "    start_all_days_ERE[k] = [None] *400\n",
    "\n",
    "#delete consecutive dates\n",
    "for i in range(1440):\n",
    "    for j in range(400):\n",
    "        ERE_local = days_ERE[i][j]\n",
    "        if type(ERE_local) == int:\n",
    "            start_all_days_ERE[i][j] = ERE_local\n",
    "        else:\n",
    "            start_day_local = []\n",
    "            prev_date = None\n",
    "            for day in ERE_local:\n",
    "                if prev_date is not None and day == prev_date + 1:\n",
    "                    prev_date = day\n",
    "                    continue\n",
    "                start_day_local.append(day)\n",
    "                prev_date = day\n",
    "            start_all_days_ERE[i][j] = start_day_local"
   ]
  },
  {
   "cell_type": "code",
   "execution_count": null,
   "id": "42754b06",
   "metadata": {},
   "outputs": [],
   "source": [
    "with open(\"ERE_start_all_days\", \"wb\") as fp:   #Pickling\n",
    "   pickle.dump(start_all_days_ERE, fp) "
   ]
  }
 ],
 "metadata": {
  "kernelspec": {
   "display_name": "Python 3",
   "language": "python",
   "name": "python3"
  },
  "language_info": {
   "codemirror_mode": {
    "name": "ipython",
    "version": 3
   },
   "file_extension": ".py",
   "mimetype": "text/x-python",
   "name": "python",
   "nbconvert_exporter": "python",
   "pygments_lexer": "ipython3",
   "version": "3.11.1"
  }
 },
 "nbformat": 4,
 "nbformat_minor": 5
}
