{
 "cells": [
  {
   "cell_type": "markdown",
   "metadata": {},
   "source": [
    "Compare NCEP Reanalysis-2 data and TRMM data.   \n",
    "We first find the common latitude for both data sets, and compare the data along that latitude.   \n",
    "Similar code can be applied to NCEP Reanalysis-1 as well. "
   ]
  },
  {
   "cell_type": "code",
   "execution_count": 1,
   "metadata": {},
   "outputs": [],
   "source": [
    "import numpy as np\n",
    "import pickle\n",
    "import netCDF4 as nc"
   ]
  },
  {
   "cell_type": "code",
   "execution_count": 2,
   "metadata": {},
   "outputs": [],
   "source": [
    "# First, we need to find same lon/lat\n",
    "#lon/lat for ncep\n",
    "test_path_ncep = \"D:/ic/urop/data/ncep2/raw_data/prate.sfc.gauss.1998.nc\"\n",
    "data_test_ncep = nc.Dataset(test_path_ncep)\n",
    "lon_ncep = data_test_ncep[\"lon\"][:]\n",
    "lat_ncep = data_test_ncep[\"lat\"][:]\n",
    "\n",
    "#lon/lat for trmm\n",
    "test_path_trmm = \"D:/ic/urop/data/raw data/trmm_extra/20161108.nc4\"\n",
    "data_test_trmm = nc.Dataset(test_path_trmm)\n",
    "lon_trmm = data_test_trmm[\"lon\"][:]\n",
    "lat_trmm = data_test_trmm[\"lat\"][:]\n",
    "\n",
    "common_lon = []\n",
    "for i in lon_ncep:\n",
    "    if i in lon_trmm:\n",
    "        common_lon.append(i)\n",
    "\n",
    "common_lat = []\n",
    "for i in lat_ncep:\n",
    "    if i in lat_trmm:\n",
    "        common_lat.append(i)"
   ]
  },
  {
   "cell_type": "code",
   "execution_count": 3,
   "metadata": {},
   "outputs": [
    {
     "name": "stdout",
     "output_type": "stream",
     "text": [
      "lon: [1.875, 5.625, 9.375, 13.125, 16.875, 20.625, 24.375, 28.125, 31.875, 35.625, 39.375, 43.125, 46.875, 50.625, 54.375, 58.125, 61.875, 65.625, 69.375, 73.125, 76.875, 80.625, 84.375, 88.125, 91.875, 95.625, 99.375, 103.125, 106.875, 110.625, 114.375, 118.125, 121.875, 125.625, 129.375, 133.125, 136.875, 140.625, 144.375, 148.125, 151.875, 155.625, 159.375, 163.125, 166.875, 170.625, 174.375, 178.125]\n",
      "lat: []\n"
     ]
    }
   ],
   "source": [
    "print(\"lon:\", common_lon)\n",
    "print(\"lat:\", common_lat)"
   ]
  },
  {
   "cell_type": "code",
   "execution_count": 4,
   "metadata": {},
   "outputs": [],
   "source": [
    "#import precipitation data \n",
    "#ncep:\n",
    "data_prec = np.load(\"ncep2_JJA.npy\")  # It has dim (1748, 94, 192), unit: kg/m^2/s\n",
    "ncep_prec = np.empty((94,192))\n",
    "for i in range(94):\n",
    "    for j in range(192):\n",
    "        percent_local = np.percentile(data_prec[:,i,j], 95)\n",
    "        ncep_prec[i,j] = percent_local * 86400  # convert units\n",
    "\n",
    "#trmm:\n",
    "data_jja = np.load(\"data_jja.npy\")\n",
    "trmm_prec = np.empty((1440,400))\n",
    "for i in range(1440):\n",
    "    for j in range(400):\n",
    "        percent_local = np.percentile(data_jja[:,i,j],95)\n",
    "        trmm_prec[i,j] = percent_local"
   ]
  },
  {
   "cell_type": "code",
   "execution_count": 11,
   "metadata": {},
   "outputs": [],
   "source": [
    "#choose one lat and plot figure\n",
    "#choose 80.625 (need to choose several)\n",
    "lon = 80.625\n",
    "# find the coordinate for lon 80.625\n",
    "trmm_80625 = np.abs(lon_trmm - lon).argmin().item() # 行\n",
    "ncep_80625 = np.abs(lon_ncep - lon).argmin().item() # 列\n",
    "trmm_array = np.array(trmm_prec[trmm_80625, :])\n",
    "ncep_array = np.array(ncep_prec[:, ncep_80625])"
   ]
  },
  {
   "cell_type": "code",
   "execution_count": 12,
   "metadata": {},
   "outputs": [],
   "source": [
    "# save data for further use\n",
    "np.save(\"trmm_array_80625\", trmm_array)\n",
    "np.save(\"ncep_array_80625\", ncep_array)"
   ]
  }
 ],
 "metadata": {
  "kernelspec": {
   "display_name": "urop_venv",
   "language": "python",
   "name": "python3"
  },
  "language_info": {
   "codemirror_mode": {
    "name": "ipython",
    "version": 3
   },
   "file_extension": ".py",
   "mimetype": "text/x-python",
   "name": "python",
   "nbconvert_exporter": "python",
   "pygments_lexer": "ipython3",
   "version": "3.11.1"
  },
  "orig_nbformat": 4
 },
 "nbformat": 4,
 "nbformat_minor": 2
}
