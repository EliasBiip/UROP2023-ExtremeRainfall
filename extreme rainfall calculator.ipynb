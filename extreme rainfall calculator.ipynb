{
 "cells": [
  {
   "cell_type": "code",
   "execution_count": 1,
   "id": "b85457ef",
   "metadata": {},
   "outputs": [],
   "source": [
    "import numpy as np\n",
    "import netCDF4 as nc\n",
    "import pickle"
   ]
  },
  {
   "cell_type": "code",
   "execution_count": 2,
   "id": "70b7f43b",
   "metadata": {},
   "outputs": [],
   "source": [
    "data_jja = np.load(\"data_jja.npy\")"
   ]
  },
  {
   "cell_type": "code",
   "execution_count": 3,
   "id": "4f1ec29b",
   "metadata": {},
   "outputs": [
    {
     "name": "stdout",
     "output_type": "stream",
     "text": [
      "(1748, 1440, 400)\n"
     ]
    }
   ],
   "source": [
    "print(data_jja.shape)"
   ]
  },
  {
   "cell_type": "code",
   "execution_count": null,
   "id": "88926824",
   "metadata": {},
   "outputs": [],
   "source": [
    "days_ERE = [[]]*1440\n",
    "for k in range(1440):\n",
    "    days_ERE[k] = [None] *400\n",
    "for i in range(1440):\n",
    "    for j in range(400):\n",
    "        data_grid = data_jja[:, i, j]  #  data_grid is 1748 days at one position\n",
    "        filtered_data_grid = data_grid[data_grid>1]\n",
    "        if len(filtered_data_grid) > 0:\n",
    "            percentile_of_grid = np.percentile(filtered_data_grid, 95)\n",
    "            days = np.where(data_grid >= percentile_of_grid)[0]\n",
    "            if type(days)==int:\n",
    "                days_ERE[i][j] = [days]\n",
    "            else:\n",
    "                days_ERE[i][j] = days\n",
    "        else:\n",
    "            days_ERE[i][j] = 0"
   ]
  },
  {
   "cell_type": "code",
   "execution_count": null,
   "id": "1fbace65",
   "metadata": {},
   "outputs": [],
   "source": [
    "print(days_ERE[1439][399])\n",
    "print(days_ERE[300][5].size())"
   ]
  },
  {
   "cell_type": "code",
   "execution_count": 6,
   "id": "38c742a0",
   "metadata": {},
   "outputs": [],
   "source": [
    "with open(\"ERE_days\", \"wb\") as fp:   #Pickling\n",
    "   pickle.dump(days_ERE, fp) "
   ]
  },
  {
   "cell_type": "code",
   "execution_count": 7,
   "id": "32db9a90",
   "metadata": {},
   "outputs": [],
   "source": [
    "#test\n",
    "with open(\"ERE_days\", \"rb\") as fp:   # Unpickling\n",
    "   b = pickle.load(fp)"
   ]
  },
  {
   "cell_type": "code",
   "execution_count": null,
   "id": "ca5acc8e",
   "metadata": {},
   "outputs": [],
   "source": [
    "start_days_ERE = [[]]*1440\n",
    "for k in range(1440):\n",
    "    start_days_ERE[k] = [None] *400\n",
    "\n",
    "for i in range(1440):\n",
    "    for j in range(400):\n",
    "        ERE_local = days_ERE[i][j]\n",
    "        if type(ERE_local) == int:\n",
    "            start_days_ERE[i][j] = ERE_local\n",
    "        else:\n",
    "            start_day_local = []\n",
    "            prev_date = None\n",
    "            for day in ERE_local:\n",
    "                if prev_date is not None and day == prev_date + 1:\n",
    "                    prev_date = day\n",
    "                    continue\n",
    "                start_day_local.append(day)\n",
    "                prev_date = day\n",
    "            start_days_ERE[i][j] = start_day_local\n"
   ]
  },
  {
   "cell_type": "code",
   "execution_count": 9,
   "id": "da15d783",
   "metadata": {},
   "outputs": [
    {
     "name": "stdout",
     "output_type": "stream",
     "text": [
      "<class 'list'>\n",
      "[81, 278, 387, 510, 1013, 1056, 1138, 1251, 1349, 1488, 1501, 1590, 1604, 1638, 1662]\n"
     ]
    }
   ],
   "source": [
    "print(type(start_days_ERE))\n",
    "print(start_days_ERE[200][7])"
   ]
  },
  {
   "cell_type": "code",
   "execution_count": 10,
   "id": "a1bd4b52",
   "metadata": {},
   "outputs": [],
   "source": [
    "with open(\"ERE_start_days\", \"wb\") as fp:   #Pickling\n",
    "   pickle.dump(start_days_ERE, fp) "
   ]
  }
 ],
 "metadata": {
  "kernelspec": {
   "display_name": "Python 3",
   "language": "python",
   "name": "python3"
  },
  "language_info": {
   "codemirror_mode": {
    "name": "ipython",
    "version": 3
   },
   "file_extension": ".py",
   "mimetype": "text/x-python",
   "name": "python",
   "nbconvert_exporter": "python",
   "pygments_lexer": "ipython3",
   "version": "3.8.8"
  }
 },
 "nbformat": 4,
 "nbformat_minor": 5
}
